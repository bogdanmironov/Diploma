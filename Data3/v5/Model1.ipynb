{
 "metadata": {
  "language_info": {
   "codemirror_mode": {
    "name": "ipython",
    "version": 3
   },
   "file_extension": ".py",
   "mimetype": "text/x-python",
   "name": "python",
   "nbconvert_exporter": "python",
   "pygments_lexer": "ipython3",
   "version": "3.8.5-final"
  },
  "orig_nbformat": 2,
  "kernelspec": {
   "name": "python38564bit27940071741648109a666d4d70900ef3",
   "display_name": "Python 3.8.5 64-bit",
   "language": "python"
  }
 },
 "nbformat": 4,
 "nbformat_minor": 2,
 "cells": [
  {
   "cell_type": "code",
   "execution_count": 28,
   "metadata": {},
   "outputs": [],
   "source": [
    "import h5py\n",
    "import tensorflow as tf\n",
    "from tensorflow import keras\n",
    "import numpy as np"
   ]
  },
  {
   "cell_type": "code",
   "execution_count": 29,
   "metadata": {},
   "outputs": [],
   "source": [
    "file_predictions = 'predictions.txt'\n",
    "train_file = 'MA0035_4_m5_train.h5'\n",
    "test_file = 'MA0035_4_m5_test.h5'"
   ]
  },
  {
   "cell_type": "code",
   "execution_count": 30,
   "metadata": {},
   "outputs": [],
   "source": [
    "h5_train = h5py.File(train_file, 'r')\n",
    "h5_test = h5py.File(test_file, 'r')"
   ]
  },
  {
   "cell_type": "code",
   "execution_count": 95,
   "metadata": {},
   "outputs": [
    {
     "output_type": "stream",
     "name": "stdout",
     "text": [
      "(100000, 4, 1000)\n"
     ]
    }
   ],
   "source": [
    "train_data = h5_train['data']\n",
    "train_binlabels = h5_train['binlabels']\n",
    "\n",
    "train_data = train_data[:20000]\n",
    "train_binlabels = train_binlabels[:20000]"
   ]
  },
  {
   "cell_type": "code",
   "execution_count": 96,
   "metadata": {},
   "outputs": [
    {
     "output_type": "stream",
     "name": "stdout",
     "text": [
      "(20000, 4, 1000)\n(20000, 1)\n[[0 1 1 ... 0 1 0]\n [1 0 0 ... 0 0 0]\n [0 0 0 ... 1 0 1]\n [0 0 0 ... 0 0 0]]\n[0]\n"
     ]
    }
   ],
   "source": [
    "print(train_data.shape)\n",
    "print(train_binlabels.shape)\n",
    "print(train_data[0])\n",
    "print(train_binlabels[0])"
   ]
  },
  {
   "cell_type": "code",
   "execution_count": 110,
   "metadata": {},
   "outputs": [],
   "source": [
    "model = tf.keras.models.Sequential(\n",
    "    [\n",
    "        tf.keras.layers.Flatten(input_shape=(4, 1000)),\n",
    "        tf.keras.layers.Dense(512, activation=tf.keras.activations.relu),\n",
    "        tf.keras.layers.Dense(512, activation=tf.keras.activations.relu),\n",
    "        tf.keras.layers.Dense(32, activation=tf.keras.activations.relu),\n",
    "        tf.keras.layers.Dense(1, activation=tf.keras.activations.sigmoid)\n",
    "    ]\n",
    ")"
   ]
  },
  {
   "cell_type": "code",
   "execution_count": 111,
   "metadata": {},
   "outputs": [],
   "source": [
    "model.compile(\n",
    "    optimizer = tf.optimizers.Adam(),\n",
    "    loss = 'binary_crossentropy',\n",
    "    metrics=['accuracy']\n",
    ")"
   ]
  },
  {
   "cell_type": "code",
   "execution_count": 112,
   "metadata": {},
   "outputs": [
    {
     "output_type": "stream",
     "name": "stdout",
     "text": [
      "Epoch 1/15\n",
      "625/625 [==============================] - 5s 8ms/step - loss: 0.6332 - accuracy: 0.6856\n",
      "Epoch 2/15\n",
      "625/625 [==============================] - 5s 8ms/step - loss: 0.6055 - accuracy: 0.6930\n",
      "Epoch 3/15\n",
      "625/625 [==============================] - 5s 8ms/step - loss: 0.5892 - accuracy: 0.6994\n",
      "Epoch 4/15\n",
      "625/625 [==============================] - 5s 8ms/step - loss: 0.5682 - accuracy: 0.7087\n",
      "Epoch 5/15\n",
      "625/625 [==============================] - 5s 8ms/step - loss: 0.5546 - accuracy: 0.7206\n",
      "Epoch 6/15\n",
      "625/625 [==============================] - 5s 8ms/step - loss: 0.4961 - accuracy: 0.7707\n",
      "Epoch 7/15\n",
      "625/625 [==============================] - 6s 9ms/step - loss: 0.4206 - accuracy: 0.8165\n",
      "Epoch 8/15\n",
      "625/625 [==============================] - 5s 9ms/step - loss: 0.2935 - accuracy: 0.8843\n",
      "Epoch 9/15\n",
      "625/625 [==============================] - 5s 8ms/step - loss: 0.2007 - accuracy: 0.9273\n",
      "Epoch 10/15\n",
      "625/625 [==============================] - 5s 9ms/step - loss: 0.1297 - accuracy: 0.9577\n",
      "Epoch 11/15\n",
      "625/625 [==============================] - 6s 9ms/step - loss: 0.0881 - accuracy: 0.9720\n",
      "Epoch 12/15\n",
      "625/625 [==============================] - 6s 10ms/step - loss: 0.0704 - accuracy: 0.9773\n",
      "Epoch 13/15\n",
      "625/625 [==============================] - 6s 9ms/step - loss: 0.0582 - accuracy: 0.9784\n",
      "Epoch 14/15\n",
      "625/625 [==============================] - 6s 9ms/step - loss: 0.0501 - accuracy: 0.9806\n",
      "Epoch 15/15\n",
      "625/625 [==============================] - 6s 10ms/step - loss: 0.0411 - accuracy: 0.9861\n"
     ]
    }
   ],
   "source": [
    "history = model.fit(train_data, train_binlabels, epochs=15)"
   ]
  },
  {
   "cell_type": "code",
   "execution_count": 113,
   "metadata": {},
   "outputs": [],
   "source": [
    "test_data = h5_test['data']\n",
    "test_binlabels = h5_test['binlabels']"
   ]
  },
  {
   "cell_type": "code",
   "execution_count": 114,
   "metadata": {},
   "outputs": [
    {
     "output_type": "stream",
     "name": "stdout",
     "text": [
      "157/157 [==============================] - 0s 354us/step - loss: 0.0000e+00 - accuracy: 0.0000e+00\n",
      "0.0\n",
      "0.0\n"
     ]
    }
   ],
   "source": [
    "loss, acc = model.evaluate(test_data[:5000])\n",
    "\n",
    "print(loss)\n",
    "print(acc)"
   ]
  },
  {
   "cell_type": "code",
   "execution_count": 115,
   "metadata": {},
   "outputs": [
    {
     "output_type": "stream",
     "name": "stdout",
     "text": [
      "[1][[[9.33853e-06]]]\n",
      "[1][[[0.01023421]]]\n",
      "[0][[[0.06701809]]]\n",
      "[0][[[0.00130472]]]\n",
      "[1][[[8.820681e-06]]]\n",
      "[0][[[0.0822435]]]\n",
      "[1][[[0.00050902]]]\n",
      "[0][[[0.9923306]]]\n",
      "[0][[[8.947367e-06]]]\n",
      "[0][[[0.00575572]]]\n",
      "[0][[[3.2411353e-05]]]\n",
      "[0][[[0.14241171]]]\n",
      "[0][[[0.00096044]]]\n",
      "[1][[[0.2160233]]]\n",
      "[0][[[0.00011185]]]\n",
      "[0][[[0.00555944]]]\n",
      "[1][[[0.00251675]]]\n",
      "[0][[[0.00754455]]]\n",
      "[1][[[0.00033236]]]\n",
      "[0][[[0.00671384]]]\n",
      "[0][[[3.261396e-08]]]\n",
      "[0][[[0.04448059]]]\n",
      "[0][[[0.00111681]]]\n",
      "[0][[[0.00083876]]]\n",
      "[0][[[0.0007149]]]\n",
      "[0][[[0.00302827]]]\n",
      "[0][[[0.03073025]]]\n",
      "[0][[[0.00201869]]]\n",
      "[0][[[0.8828747]]]\n",
      "[0][[[0.00043675]]]\n",
      "[0][[[0.00129852]]]\n",
      "[1][[[0.65104103]]]\n",
      "[1][[[7.240207e-07]]]\n",
      "[0][[[0.24851137]]]\n",
      "[0][[[1.819602e-05]]]\n",
      "[0][[[0.00082821]]]\n",
      "[0][[[0.891557]]]\n",
      "[0][[[5.601827e-08]]]\n",
      "[0][[[0.71866167]]]\n",
      "[0][[[0.00136411]]]\n",
      "[0][[[0.00245255]]]\n",
      "[0][[[0.6300951]]]\n",
      "[0][[[0.0800387]]]\n",
      "[0][[[0.9943925]]]\n",
      "[0][[[0.979234]]]\n",
      "[0][[[0.13732454]]]\n",
      "[0][[[0.00619799]]]\n",
      "[0][[[0.00035733]]]\n",
      "[0][[[0.00086269]]]\n",
      "[0][[[0.557871]]]\n",
      "[0][[[0.68081903]]]\n",
      "[1][[[0.9975654]]]\n",
      "[1][[[0.02523935]]]\n",
      "[0][[[9.899771e-10]]]\n",
      "[0][[[0.00060329]]]\n",
      "[0][[[0.03219557]]]\n",
      "[1][[[0.00614572]]]\n",
      "[1][[[1.239029e-09]]]\n",
      "[1][[[2.8582617e-06]]]\n",
      "[0][[[0.00450265]]]\n",
      "[0][[[0.16526213]]]\n",
      "[0][[[0.02659729]]]\n",
      "[1][[[0.00014839]]]\n",
      "[0][[[0.03103483]]]\n",
      "[1][[[0.03897661]]]\n",
      "[0][[[4.1608033e-05]]]\n",
      "[1][[[4.4970948e-05]]]\n",
      "[0][[[0.00145754]]]\n",
      "[0][[[6.4440796e-06]]]\n",
      "[0][[[0.3137552]]]\n",
      "[1][[[6.2300605e-05]]]\n",
      "[0][[[0.00058401]]]\n",
      "[0][[[0.00053552]]]\n",
      "[0][[[0.0023877]]]\n",
      "[0][[[0.01507106]]]\n",
      "[1][[[0.00196007]]]\n",
      "[0][[[0.01679859]]]\n",
      "[0][[[0.00056323]]]\n",
      "[0][[[0.03704554]]]\n",
      "[0][[[0.00284171]]]\n",
      "[0][[[4.268169e-08]]]\n",
      "[0][[[1.6918393e-05]]]\n",
      "[1][[[0.2826016]]]\n",
      "[0][[[0.9996605]]]\n",
      "[0][[[0.07066688]]]\n",
      "[1][[[0.00617585]]]\n",
      "[1][[[1.06414095e-08]]]\n",
      "[1][[[0.01188165]]]\n",
      "[0][[[3.001954e-07]]]\n",
      "[0][[[0.8663212]]]\n",
      "[1][[[0.00401798]]]\n",
      "[1][[[0.00014728]]]\n",
      "[0][[[0.00049144]]]\n",
      "[0][[[0.00131407]]]\n",
      "[1][[[0.00587672]]]\n",
      "[0][[[8.224706e-09]]]\n",
      "[0][[[0.24973863]]]\n",
      "[0][[[0.00671068]]]\n",
      "[0][[[0.00381669]]]\n",
      "[0][[[0.00020999]]]\n"
     ]
    }
   ],
   "source": [
    "for i in range(100):\n",
    "    print(test_binlabels[i], end='[')\n",
    "    print(model.predict(np.array([test_data[i]])), end=']\\n')\n",
    "# model.predict(test_data[:1000])"
   ]
  },
  {
   "cell_type": "code",
   "execution_count": null,
   "metadata": {},
   "outputs": [],
   "source": []
  }
 ]
}